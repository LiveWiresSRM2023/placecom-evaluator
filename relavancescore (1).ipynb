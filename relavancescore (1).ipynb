{
  "nbformat": 4,
  "nbformat_minor": 0,
  "metadata": {
    "colab": {
      "provenance": []
    },
    "kernelspec": {
      "name": "python3",
      "display_name": "Python 3"
    },
    "language_info": {
      "name": "python"
    }
  },
  "cells": [
    {
      "cell_type": "code",
      "source": [
        "import torch\n",
        "from transformers import BertTokenizer, BertModel\n",
        "from sklearn.metrics.pairwise import cosine_similarity\n",
        "import numpy as np\n",
        "import pandas as pd"
      ],
      "metadata": {
        "id": "gUmTY-njDfK7"
      },
      "execution_count": 64,
      "outputs": []
    },
    {
      "cell_type": "code",
      "source": [
        "# Load pre-trained BERT model and tokenizer\n",
        "tokenizer = BertTokenizer.from_pretrained('bert-base-uncased')\n",
        "model = BertModel.from_pretrained('bert-base-uncased')"
      ],
      "metadata": {
        "id": "DtGHVQszFbCA"
      },
      "execution_count": 65,
      "outputs": []
    },
    {
      "cell_type": "code",
      "source": [
        "# Load keywords from an Excel file\n",
        "df = pd.read_excel(\"/content/drive/MyDrive/data/keywords.xlsx\")\n",
        "keywords = df[\"Keywords\"].tolist()"
      ],
      "metadata": {
        "id": "ca07L9XTFb-1"
      },
      "execution_count": 66,
      "outputs": []
    },
    {
      "cell_type": "code",
      "source": [
        "# Generate embeddings for each keyword\n",
        "def get_keyword_embeddings(keywords):\n",
        "    keyword_embeddings = {}\n",
        "    for keyword in keywords:\n",
        "        tokens = tokenizer(keyword, return_tensors='pt', padding=True, truncation=True)\n",
        "        with torch.no_grad():\n",
        "            embedding = model(**tokens).last_hidden_state.mean(dim=1).numpy()\n",
        "        keyword_embeddings[keyword] = embedding\n",
        "    return keyword_embeddings\n",
        "\n",
        "keyword_embeddings = get_keyword_embeddings(keywords)"
      ],
      "metadata": {
        "id": "tfbNgUMuFm0K"
      },
      "execution_count": 67,
      "outputs": []
    },
    {
      "cell_type": "code",
      "source": [
        "# Function to generate embeddings for the input text\n",
        "def get_text_embedding(text):\n",
        "    tokens = tokenizer(text, return_tensors='pt', padding=True, truncation=True)\n",
        "    with torch.no_grad():\n",
        "        embedding = model(**tokens).last_hidden_state.mean(dim=1).numpy()\n",
        "    return embedding\n"
      ],
      "metadata": {
        "id": "k66kqYHaFr9-"
      },
      "execution_count": 68,
      "outputs": []
    },
    {
      "cell_type": "code",
      "source": [
        "# Function to evaluate the introduction\n",
        "def evaluate_introduction(intro):\n",
        "    intro_lower = intro.lower()\n",
        "    intro_embedding = get_text_embedding(intro)\n",
        "\n",
        "    # Calculate cosine similarity for each keyword and get their mean\n",
        "    scores = []\n",
        "    for keyword, keyword_embedding in keyword_embeddings.items():\n",
        "        score = cosine_similarity(intro_embedding, keyword_embedding.reshape(1, -1))\n",
        "        scores.append(score[0][0])\n",
        "\n",
        "    # Calculate the mean of cosine similarity scores\n",
        "    mean_score = np.mean(scores)\n",
        "\n",
        "    # Calculate the overall score on a 10-point scale\n",
        "    normalized_scores = [(score - min(scores)) / (max(scores) - min(scores)) for score in scores]\n",
        "    overall_score = np.mean(normalized_scores) * 10\n",
        "\n",
        "    # Count the number of keywords present in the introduction\n",
        "    keyword_count = sum(1 for keyword in keywords if keyword.lower() in intro_lower)\n",
        "\n",
        "    # Adjust final score based on keyword count\n",
        "    if keyword_count >= 5:\n",
        "        final_score = min(overall_score * 1.5, 10)  # Increase score by 50% if 5 or more keywords are found, capped at 10\n",
        "    else:\n",
        "        final_score = overall_score\n",
        "\n",
        "    return round(final_score, 2)"
      ],
      "metadata": {
        "id": "hCjs9Kj5FttS"
      },
      "execution_count": 69,
      "outputs": []
    },
    {
      "cell_type": "code",
      "source": [
        "from google.colab import drive\n",
        "drive.mount('/content/drive')"
      ],
      "metadata": {
        "colab": {
          "base_uri": "https://localhost:8080/"
        },
        "id": "zt8aj32tPW-y",
        "outputId": "14542bad-c151-4249-bc6d-064a8b0c1682"
      },
      "execution_count": 70,
      "outputs": [
        {
          "output_type": "stream",
          "name": "stdout",
          "text": [
            "Drive already mounted at /content/drive; to attempt to forcibly remount, call drive.mount(\"/content/drive\", force_remount=True).\n"
          ]
        }
      ]
    },
    {
      "cell_type": "code",
      "source": [
        "file_path = '/content/drive/MyDrive/data/result.xlsx'\n",
        "df = pd.read_excel(file_path)"
      ],
      "metadata": {
        "id": "4pPrV5XKQPQN"
      },
      "execution_count": 71,
      "outputs": []
    },
    {
      "cell_type": "code",
      "source": [
        "# Load introductions from the same Excel file (or a different file if needed)\n",
        "\n",
        "introductions = df['Transcript']"
      ],
      "metadata": {
        "id": "C6U8VSZfF3iJ"
      },
      "execution_count": 72,
      "outputs": []
    },
    {
      "cell_type": "code",
      "source": [
        "# Evaluate the introduction\n",
        "scores = []\n",
        "for intro in introductions:\n",
        "    if isinstance(intro, str):  # Check if the introduction is a string\n",
        "        score = evaluate_introduction(intro)\n",
        "        scores.append(score)\n",
        "    else: # Handle non-string introductions\n",
        "        scores.append(None) # or any default value you prefer\n",
        "\n"
      ],
      "metadata": {
        "id": "-FIbmbvFaVI2"
      },
      "execution_count": 73,
      "outputs": []
    },
    {
      "cell_type": "code",
      "source": [
        "file_path = '/content/drive/MyDrive/data/result.xlsx'\n",
        "df_result= pd.read_excel(file_path)"
      ],
      "metadata": {
        "id": "rxHJ0eJic1vm"
      },
      "execution_count": 74,
      "outputs": []
    },
    {
      "cell_type": "code",
      "source": [
        "# Add the scores to the DataFrame and save to a new Excel file\n",
        "df_result['Relavance_Scores'] = scores[:len(df_result)] # Truncate the scores list to match the DataFrame length\n",
        "df_result.to_excel(\"/content/drive/MyDrive/data/result.xlsx\", index=False)\n",
        "\n",
        "print(\"Scores have been evaluated and saved to the Excel sheet.\")"
      ],
      "metadata": {
        "colab": {
          "base_uri": "https://localhost:8080/"
        },
        "id": "xLGuju2GaVMY",
        "outputId": "f0cf5145-99c9-47e9-eaf4-5d88689d15fe"
      },
      "execution_count": 75,
      "outputs": [
        {
          "output_type": "stream",
          "name": "stdout",
          "text": [
            "Scores have been evaluated and saved to the Excel sheet.\n"
          ]
        }
      ]
    },
    {
      "cell_type": "code",
      "source": [
        "print(scores)"
      ],
      "metadata": {
        "colab": {
          "base_uri": "https://localhost:8080/"
        },
        "id": "6jeaB6hQXxQB",
        "outputId": "76ebc9ff-0b6c-4ee1-a892-e00f8c0deb97"
      },
      "execution_count": 76,
      "outputs": [
        {
          "output_type": "stream",
          "name": "stdout",
          "text": [
            "[4.81, 4.74, 5.11, 5.07, 4.61, 6.99, 4.83, 4.44, 6.73, 4.7, 5.12, 4.58, 4.95, 7.6, 4.94, 5.35, 4.78, 4.51, 4.77, 4.87, 4.78, 4.78, 4.74, 4.62, 4.41, 4.64, 5.25, 4.72, 7.48, 4.77, 6.93, 4.77, 4.59, 4.37, 6.64, 4.85, 4.8, 5.03, 4.88, 4.9, 4.98, 6.71]\n"
          ]
        }
      ]
    }
  ]
}